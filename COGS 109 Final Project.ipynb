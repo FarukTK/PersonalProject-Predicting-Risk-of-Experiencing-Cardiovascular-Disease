{
 "cells": [
  {
   "cell_type": "code",
   "execution_count": 73,
   "metadata": {},
   "outputs": [],
   "source": [
    "import numpy as np\n",
    "import matplotlib.pyplot as plt\n",
    "import pandas as pd\n",
    "import statsmodels.api as sm\n",
    "from statsmodels.formula.api import logit\n",
    "from scipy.stats import norm\n",
    "from scipy import linalg\n",
    "import math\n",
    "from sklearn.metrics import confusion_matrix\n",
    "from statsmodels.formula.api import ols\n",
    "from sklearn.metrics import mean_squared_error\n",
    "from sklearn.model_selection import KFold\n",
    "from scipy.cluster.hierarchy import dendrogram, linkage\n",
    "from sklearn.cluster import KMeans\n",
    "from scipy.spatial.distance import squareform\n",
    "from sklearn.linear_model import LogisticRegression"
   ]
  },
  {
   "cell_type": "markdown",
   "metadata": {},
   "source": [
    "## Project"
   ]
  },
  {
   "cell_type": "code",
   "execution_count": 6,
   "metadata": {},
   "outputs": [
    {
     "data": {
      "text/html": [
       "<div>\n",
       "<style scoped>\n",
       "    .dataframe tbody tr th:only-of-type {\n",
       "        vertical-align: middle;\n",
       "    }\n",
       "\n",
       "    .dataframe tbody tr th {\n",
       "        vertical-align: top;\n",
       "    }\n",
       "\n",
       "    .dataframe thead th {\n",
       "        text-align: right;\n",
       "    }\n",
       "</style>\n",
       "<table border=\"1\" class=\"dataframe\">\n",
       "  <thead>\n",
       "    <tr style=\"text-align: right;\">\n",
       "      <th></th>\n",
       "      <th>age</th>\n",
       "      <th>sex</th>\n",
       "      <th>cp</th>\n",
       "      <th>trestbps</th>\n",
       "      <th>chol</th>\n",
       "      <th>fbs</th>\n",
       "      <th>restecg</th>\n",
       "      <th>thalach</th>\n",
       "      <th>exang</th>\n",
       "      <th>oldpeak</th>\n",
       "      <th>slope</th>\n",
       "      <th>ca</th>\n",
       "      <th>thal</th>\n",
       "      <th>target</th>\n",
       "    </tr>\n",
       "  </thead>\n",
       "  <tbody>\n",
       "    <tr>\n",
       "      <th>0</th>\n",
       "      <td>52</td>\n",
       "      <td>1</td>\n",
       "      <td>0</td>\n",
       "      <td>125</td>\n",
       "      <td>212</td>\n",
       "      <td>0</td>\n",
       "      <td>1</td>\n",
       "      <td>168</td>\n",
       "      <td>0</td>\n",
       "      <td>1.0</td>\n",
       "      <td>2</td>\n",
       "      <td>2</td>\n",
       "      <td>3</td>\n",
       "      <td>0</td>\n",
       "    </tr>\n",
       "    <tr>\n",
       "      <th>1</th>\n",
       "      <td>53</td>\n",
       "      <td>1</td>\n",
       "      <td>0</td>\n",
       "      <td>140</td>\n",
       "      <td>203</td>\n",
       "      <td>1</td>\n",
       "      <td>0</td>\n",
       "      <td>155</td>\n",
       "      <td>1</td>\n",
       "      <td>3.1</td>\n",
       "      <td>0</td>\n",
       "      <td>0</td>\n",
       "      <td>3</td>\n",
       "      <td>0</td>\n",
       "    </tr>\n",
       "    <tr>\n",
       "      <th>2</th>\n",
       "      <td>70</td>\n",
       "      <td>1</td>\n",
       "      <td>0</td>\n",
       "      <td>145</td>\n",
       "      <td>174</td>\n",
       "      <td>0</td>\n",
       "      <td>1</td>\n",
       "      <td>125</td>\n",
       "      <td>1</td>\n",
       "      <td>2.6</td>\n",
       "      <td>0</td>\n",
       "      <td>0</td>\n",
       "      <td>3</td>\n",
       "      <td>0</td>\n",
       "    </tr>\n",
       "    <tr>\n",
       "      <th>3</th>\n",
       "      <td>61</td>\n",
       "      <td>1</td>\n",
       "      <td>0</td>\n",
       "      <td>148</td>\n",
       "      <td>203</td>\n",
       "      <td>0</td>\n",
       "      <td>1</td>\n",
       "      <td>161</td>\n",
       "      <td>0</td>\n",
       "      <td>0.0</td>\n",
       "      <td>2</td>\n",
       "      <td>1</td>\n",
       "      <td>3</td>\n",
       "      <td>0</td>\n",
       "    </tr>\n",
       "    <tr>\n",
       "      <th>4</th>\n",
       "      <td>62</td>\n",
       "      <td>0</td>\n",
       "      <td>0</td>\n",
       "      <td>138</td>\n",
       "      <td>294</td>\n",
       "      <td>1</td>\n",
       "      <td>1</td>\n",
       "      <td>106</td>\n",
       "      <td>0</td>\n",
       "      <td>1.9</td>\n",
       "      <td>1</td>\n",
       "      <td>3</td>\n",
       "      <td>2</td>\n",
       "      <td>0</td>\n",
       "    </tr>\n",
       "    <tr>\n",
       "      <th>...</th>\n",
       "      <td>...</td>\n",
       "      <td>...</td>\n",
       "      <td>...</td>\n",
       "      <td>...</td>\n",
       "      <td>...</td>\n",
       "      <td>...</td>\n",
       "      <td>...</td>\n",
       "      <td>...</td>\n",
       "      <td>...</td>\n",
       "      <td>...</td>\n",
       "      <td>...</td>\n",
       "      <td>...</td>\n",
       "      <td>...</td>\n",
       "      <td>...</td>\n",
       "    </tr>\n",
       "    <tr>\n",
       "      <th>1020</th>\n",
       "      <td>59</td>\n",
       "      <td>1</td>\n",
       "      <td>1</td>\n",
       "      <td>140</td>\n",
       "      <td>221</td>\n",
       "      <td>0</td>\n",
       "      <td>1</td>\n",
       "      <td>164</td>\n",
       "      <td>1</td>\n",
       "      <td>0.0</td>\n",
       "      <td>2</td>\n",
       "      <td>0</td>\n",
       "      <td>2</td>\n",
       "      <td>1</td>\n",
       "    </tr>\n",
       "    <tr>\n",
       "      <th>1021</th>\n",
       "      <td>60</td>\n",
       "      <td>1</td>\n",
       "      <td>0</td>\n",
       "      <td>125</td>\n",
       "      <td>258</td>\n",
       "      <td>0</td>\n",
       "      <td>0</td>\n",
       "      <td>141</td>\n",
       "      <td>1</td>\n",
       "      <td>2.8</td>\n",
       "      <td>1</td>\n",
       "      <td>1</td>\n",
       "      <td>3</td>\n",
       "      <td>0</td>\n",
       "    </tr>\n",
       "    <tr>\n",
       "      <th>1022</th>\n",
       "      <td>47</td>\n",
       "      <td>1</td>\n",
       "      <td>0</td>\n",
       "      <td>110</td>\n",
       "      <td>275</td>\n",
       "      <td>0</td>\n",
       "      <td>0</td>\n",
       "      <td>118</td>\n",
       "      <td>1</td>\n",
       "      <td>1.0</td>\n",
       "      <td>1</td>\n",
       "      <td>1</td>\n",
       "      <td>2</td>\n",
       "      <td>0</td>\n",
       "    </tr>\n",
       "    <tr>\n",
       "      <th>1023</th>\n",
       "      <td>50</td>\n",
       "      <td>0</td>\n",
       "      <td>0</td>\n",
       "      <td>110</td>\n",
       "      <td>254</td>\n",
       "      <td>0</td>\n",
       "      <td>0</td>\n",
       "      <td>159</td>\n",
       "      <td>0</td>\n",
       "      <td>0.0</td>\n",
       "      <td>2</td>\n",
       "      <td>0</td>\n",
       "      <td>2</td>\n",
       "      <td>1</td>\n",
       "    </tr>\n",
       "    <tr>\n",
       "      <th>1024</th>\n",
       "      <td>54</td>\n",
       "      <td>1</td>\n",
       "      <td>0</td>\n",
       "      <td>120</td>\n",
       "      <td>188</td>\n",
       "      <td>0</td>\n",
       "      <td>1</td>\n",
       "      <td>113</td>\n",
       "      <td>0</td>\n",
       "      <td>1.4</td>\n",
       "      <td>1</td>\n",
       "      <td>1</td>\n",
       "      <td>3</td>\n",
       "      <td>0</td>\n",
       "    </tr>\n",
       "  </tbody>\n",
       "</table>\n",
       "<p>1025 rows × 14 columns</p>\n",
       "</div>"
      ],
      "text/plain": [
       "      age  sex  cp  trestbps  chol  fbs  restecg  thalach  exang  oldpeak  \\\n",
       "0      52    1   0       125   212    0        1      168      0      1.0   \n",
       "1      53    1   0       140   203    1        0      155      1      3.1   \n",
       "2      70    1   0       145   174    0        1      125      1      2.6   \n",
       "3      61    1   0       148   203    0        1      161      0      0.0   \n",
       "4      62    0   0       138   294    1        1      106      0      1.9   \n",
       "...   ...  ...  ..       ...   ...  ...      ...      ...    ...      ...   \n",
       "1020   59    1   1       140   221    0        1      164      1      0.0   \n",
       "1021   60    1   0       125   258    0        0      141      1      2.8   \n",
       "1022   47    1   0       110   275    0        0      118      1      1.0   \n",
       "1023   50    0   0       110   254    0        0      159      0      0.0   \n",
       "1024   54    1   0       120   188    0        1      113      0      1.4   \n",
       "\n",
       "      slope  ca  thal  target  \n",
       "0         2   2     3       0  \n",
       "1         0   0     3       0  \n",
       "2         0   0     3       0  \n",
       "3         2   1     3       0  \n",
       "4         1   3     2       0  \n",
       "...     ...  ..   ...     ...  \n",
       "1020      2   0     2       1  \n",
       "1021      1   1     3       0  \n",
       "1022      1   1     2       0  \n",
       "1023      2   0     2       1  \n",
       "1024      1   1     3       0  \n",
       "\n",
       "[1025 rows x 14 columns]"
      ]
     },
     "execution_count": 6,
     "metadata": {},
     "output_type": "execute_result"
    }
   ],
   "source": [
    "# Loading the data onto Jupyter Notebooks\n",
    "data=pd.read_csv('heart.csv')\n",
    "\n",
    "data"
   ]
  },
  {
   "cell_type": "markdown",
   "metadata": {},
   "source": [
    "### Part (1)\n",
    "\n",
    "#### Doing this just in case, we most probably will not need this:\n",
    "#### Fit a multiple linear regression that uses all of the predictors (i.e. 13 predictors, plus an intercept)."
   ]
  },
  {
   "cell_type": "code",
   "execution_count": 9,
   "metadata": {},
   "outputs": [
    {
     "name": "stdout",
     "output_type": "stream",
     "text": [
      "                            OLS Regression Results                            \n",
      "==============================================================================\n",
      "Dep. Variable:                 target   R-squared:                       0.515\n",
      "Model:                            OLS   Adj. R-squared:                  0.509\n",
      "Method:                 Least Squares   F-statistic:                     82.56\n",
      "Date:                Tue, 01 Jun 2021   Prob (F-statistic):          1.05e-148\n",
      "Time:                        20:31:42   Log-Likelihood:                -372.81\n",
      "No. Observations:                1025   AIC:                             773.6\n",
      "Df Residuals:                    1011   BIC:                             842.7\n",
      "Df Model:                          13                                         \n",
      "Covariance Type:            nonrobust                                         \n",
      "==============================================================================\n",
      "                 coef    std err          t      P>|t|      [0.025      0.975]\n",
      "------------------------------------------------------------------------------\n",
      "Intercept      0.8793      0.158      5.569      0.000       0.569       1.189\n",
      "age           -0.0014      0.001     -0.991      0.322      -0.004       0.001\n",
      "sex           -0.2107      0.026     -8.237      0.000      -0.261      -0.161\n",
      "cp             0.1118      0.012      9.243      0.000       0.088       0.136\n",
      "trestbps      -0.0018      0.001     -2.691      0.007      -0.003      -0.000\n",
      "chol          -0.0005      0.000     -2.015      0.044      -0.001    -1.2e-05\n",
      "fbs            0.0042      0.032      0.132      0.895      -0.059       0.067\n",
      "restecg        0.0443      0.021      2.070      0.039       0.002       0.086\n",
      "thalach        0.0029      0.001      4.756      0.000       0.002       0.004\n",
      "exang         -0.1446      0.028     -5.241      0.000      -0.199      -0.090\n",
      "oldpeak       -0.0610      0.012     -5.008      0.000      -0.085      -0.037\n",
      "slope          0.0762      0.023      3.354      0.001       0.032       0.121\n",
      "ca            -0.0956      0.012     -8.224      0.000      -0.118      -0.073\n",
      "thal          -0.1152      0.019     -6.122      0.000      -0.152      -0.078\n",
      "==============================================================================\n",
      "Omnibus:                       19.743   Durbin-Watson:                   1.961\n",
      "Prob(Omnibus):                  0.000   Jarque-Bera (JB):               19.370\n",
      "Skew:                          -0.306   Prob(JB):                     6.22e-05\n",
      "Kurtosis:                       2.717   Cond. No.                     4.68e+03\n",
      "==============================================================================\n",
      "\n",
      "Notes:\n",
      "[1] Standard Errors assume that the covariance matrix of the errors is correctly specified.\n",
      "[2] The condition number is large, 4.68e+03. This might indicate that there are\n",
      "strong multicollinearity or other numerical problems.\n"
     ]
    }
   ],
   "source": [
    "# First make the multiple linear regression formula using a for loop iterating over each column name of interest\n",
    "multiple_linear_formula = 'target ~ 1'\n",
    "for column_name in data.columns[0:13]:\n",
    "    multiple_linear_formula += ' + '\n",
    "    multiple_linear_formula += column_name\n",
    "\n",
    "multiple_linear_formula_model = ols(multiple_linear_formula, data).fit()\n",
    "\n",
    "print(multiple_linear_formula_model.summary())"
   ]
  },
  {
   "cell_type": "markdown",
   "metadata": {},
   "source": [
    "#### What are the p-values of the slope for each of the predictors?"
   ]
  },
  {
   "cell_type": "code",
   "execution_count": 11,
   "metadata": {},
   "outputs": [
    {
     "name": "stdout",
     "output_type": "stream",
     "text": [
      "Slope P-value (age) =  0.3221512583647957\n",
      "Slope P-value (sex) =  5.40453434133898e-16\n",
      "Slope P-value (cp) =  1.3816665867089788e-19\n",
      "Slope P-value (trestbps) =  0.007247358492048582\n",
      "Slope P-value (chol) =  0.04417283456733589\n",
      "Slope P-value (fbs) =  0.8952365473887103\n",
      "Slope P-value (restecg) =  0.0387385880041461\n",
      "Slope P-value (thalach) =  2.2567672185829383e-06\n",
      "Slope P-value (exang) =  1.9460966313309428e-07\n",
      "Slope P-value (oldpeak) =  6.488874289297345e-07\n",
      "Slope P-value (slope) =  0.0008275596976340993\n",
      "Slope P-value (ca) =  6.016192715181328e-16\n",
      "Slope P-value (thal) =  1.3223942387989103e-09\n"
     ]
    }
   ],
   "source": [
    "print(\"Slope P-value (age) = \", multiple_linear_formula_model.pvalues['age'])\n",
    "print(\"Slope P-value (sex) = \", multiple_linear_formula_model.pvalues['sex'])\n",
    "print(\"Slope P-value (cp) = \", multiple_linear_formula_model.pvalues['cp'])\n",
    "print(\"Slope P-value (trestbps) = \", multiple_linear_formula_model.pvalues['trestbps'])\n",
    "print(\"Slope P-value (chol) = \", multiple_linear_formula_model.pvalues['chol'])\n",
    "print(\"Slope P-value (fbs) = \", multiple_linear_formula_model.pvalues['fbs'])\n",
    "print(\"Slope P-value (restecg) = \", multiple_linear_formula_model.pvalues['restecg'])\n",
    "print(\"Slope P-value (thalach) = \", multiple_linear_formula_model.pvalues['thalach'])\n",
    "print(\"Slope P-value (exang) = \", multiple_linear_formula_model.pvalues['exang'])\n",
    "print(\"Slope P-value (oldpeak) = \", multiple_linear_formula_model.pvalues['oldpeak'])\n",
    "print(\"Slope P-value (slope) = \", multiple_linear_formula_model.pvalues['slope'])\n",
    "print(\"Slope P-value (ca) = \", multiple_linear_formula_model.pvalues['ca'])\n",
    "print(\"Slope P-value (thal) = \", multiple_linear_formula_model.pvalues['thal'])"
   ]
  },
  {
   "cell_type": "markdown",
   "metadata": {},
   "source": [
    "### Part 2\n",
    "### Forward Subset Selection\n",
    "#### Now writing a for loop to fit 13 separate linear models of the form, target ~ 1 + X1, where X1 is one of the predictors. For each fit, keep track of the mean squared error. (Note for this step we are not using cross-validation; just use the MSE for the training data.) Your code will look something like the pseudo-code below:\n",
    "mse = []; # Initialize an empty array for mse <br>\n",
    "P = 13; # Number of predictors <br>\n",
    "for j in range(P): <br>\n",
    "&nbsp;&nbsp;&nbsp;&nbsp; # Step 1: Fit the model to the data, using predictor j <br>\n",
    "&nbsp;&nbsp;&nbsp;&nbsp; model = ... <br>\n",
    "&nbsp;&nbsp;&nbsp;&nbsp; # Step 2: Find the predicted values using the current model <br>\n",
    "&nbsp;&nbsp;&nbsp;&nbsp; yhat = ... <br>\n",
    "&nbsp;&nbsp;&nbsp;&nbsp; # Step 3: Find the MSE for the current model and save <br>\n",
    "&nbsp;&nbsp;&nbsp;&nbsp; mse.append( … ) <br>"
   ]
  },
  {
   "cell_type": "code",
   "execution_count": 100,
   "metadata": {},
   "outputs": [],
   "source": [
    "mse_fss = [] # Initialize an empty array for mse\n",
    "P = 13 # Number of predictors\n",
    "predictor_number = []\n",
    "\n",
    "for i in range(P):\n",
    "    # Step 1: Fit the model to the data, using predictor\n",
    "    formula = 'target ~ 1 + '\n",
    "    formula += data.columns[i]\n",
    "    model = ols(formula, data).fit()\n",
    "    \n",
    "    # Step 2: Find the predicted values using the current model\n",
    "    prediction = model.predict()\n",
    "    \n",
    "    # Step 3: Find the MSE for the current model and save\n",
    "    mse_fss.append(mean_squared_error(data['target'], prediction))\n",
    "    predictor_number.append(i+1)"
   ]
  },
  {
   "cell_type": "markdown",
   "metadata": {},
   "source": [
    "#### Make a plot showing MSE vs. feature number using the data from the previous section"
   ]
  },
  {
   "cell_type": "code",
   "execution_count": 37,
   "metadata": {},
   "outputs": [
    {
     "data": {
      "image/png": "[encoded data removed]",
      "text/plain": [
       "<Figure size 432x288 with 1 Axes>"
      ]
     },
     "metadata": {
      "needs_background": "light"
     },
     "output_type": "display_data"
    }
   ],
   "source": [
    "plt.scatter(predictor_number, mse_fss, marker='o', color='blue')\n",
    "plt.title('target ~ 1 + X1')\n",
    "plt.xlabel('Predictor Number')\n",
    "plt.xticks(predictor_number)\n",
    "plt.ylabel('Mean-Squared Error')\n",
    "\n",
    "x = predictor_number[9]\n",
    "y = mse_fss[9]\n",
    "plt.scatter(x, y, marker='o', color='red')\n",
    "plt.grid(True)"
   ]
  },
  {
   "cell_type": "code",
   "execution_count": 38,
   "metadata": {},
   "outputs": [
    {
     "name": "stdout",
     "output_type": "stream",
     "text": [
      "[0.2366883316030918, 0.23030991494508754, 0.20258477965172628, 0.24501547388485556, 0.24732998530700892, 0.24940321634732804, 0.24530924363525017, 0.2051474047423509, 0.20189256232715783, 0.2018021909086209, 0.22000264757909097, 0.21335456427572386, 0.22131267657358838]\n"
     ]
    }
   ],
   "source": [
    "print(mse_fss)"
   ]
  },
  {
   "cell_type": "markdown",
   "metadata": {},
   "source": [
    "#### Using these results, which single feature gives the best prediction (lowest MSE)?"
   ]
  },
  {
   "cell_type": "markdown",
   "metadata": {},
   "source": [
    "Predictor number 10, which is 'oldpeak', gives the best prediction (lowest mean-squared error)."
   ]
  },
  {
   "cell_type": "markdown",
   "metadata": {},
   "source": [
    "### Part 3\n",
    "#### Now write a loop to fit 12 models of the form, target ~ 1 + X1 + X2, where X1 is the best feature obtained from part (2) and X2 is one of the other features. Which combination of two features gives the best prediction?"
   ]
  },
  {
   "cell_type": "code",
   "execution_count": 41,
   "metadata": {},
   "outputs": [
    {
     "data": {
      "image/png": "[encoded data removed]",
      "text/plain": [
       "<Figure size 432x288 with 1 Axes>"
      ]
     },
     "metadata": {
      "needs_background": "light"
     },
     "output_type": "display_data"
    }
   ],
   "source": [
    "mse_fss2 = [] # Initialize an empty array for mse\n",
    "P = 13 # Number of predictors\n",
    "predictor_number = []\n",
    "\n",
    "for i in range(P):\n",
    "    if i == 9:\n",
    "        continue\n",
    "    else:\n",
    "        # Step 1: Fit the model to the data, using predictor\n",
    "        formula2 = 'target ~ 1 + oldpeak + '\n",
    "        formula2 += data.columns[i+1]\n",
    "        model2 = ols(formula2, data).fit()\n",
    "\n",
    "        # Step 2: Find the predicted values using the current model\n",
    "        prediction2 = model2.predict()\n",
    "\n",
    "        # Step 3: Find the MSE for the current model and save\n",
    "        mse_fss2.append(mean_squared_error(data['target'], prediction2))\n",
    "        predictor_number.append(i+1)\n",
    "\n",
    "plt.scatter(predictor_number, mse_fss2, marker='o', color='blue')\n",
    "plt.title('target ~ 1 + X1 + X2')\n",
    "plt.xlabel('Predictor Number')\n",
    "plt.xticks(predictor_number)\n",
    "plt.ylabel('Mean-Squared Error')\n",
    "\n",
    "x2 = predictor_number[11]\n",
    "y2 = mse_fss2[11]\n",
    "plt.scatter(x2, y2, marker='o', color='red')\n",
    "plt.grid(True)"
   ]
  },
  {
   "cell_type": "markdown",
   "metadata": {},
   "source": [
    "#### Using these results, which single feature gives the best prediction (lowest MSE)?"
   ]
  },
  {
   "cell_type": "markdown",
   "metadata": {},
   "source": [
    "Predictor number 10+13, which is 'oldpeak + thal' (thal = thalassemia), gives the best prediction (lowest mean-squared error)."
   ]
  },
  {
   "cell_type": "markdown",
   "metadata": {},
   "source": [
    "### Part 4\n",
    "#### Now write a loop to fit 11 models of the form, target ~ 1 + X1 + X2 + X3, where X1 is the best feature obtained from part (2), X2 is the best feature obtained from part (3), and X3 is one of the other features. Which combination of three features gives the best prediction?"
   ]
  },
  {
   "cell_type": "code",
   "execution_count": 43,
   "metadata": {},
   "outputs": [
    {
     "data": {
      "image/png": "[encoded data removed]",
      "text/plain": [
       "<Figure size 432x288 with 1 Axes>"
      ]
     },
     "metadata": {
      "needs_background": "light"
     },
     "output_type": "display_data"
    }
   ],
   "source": [
    "mse_fss3 = [] # Initialize an empty array for mse\n",
    "P = 13 # Number of predictors\n",
    "predictor_number = []\n",
    "\n",
    "for i in range(P):\n",
    "    if i == 9 or i == 12:\n",
    "        continue\n",
    "    else:\n",
    "        # Step 1: Fit the model to the data, using predictor\n",
    "        formula3 = 'target ~ 1 + oldpeak + thal +'\n",
    "        formula3 += data.columns[i+1]\n",
    "        model3 = ols(formula3, data).fit()\n",
    "\n",
    "        # Step 2: Find the predicted values using the current model\n",
    "        prediction3 = model3.predict()\n",
    "\n",
    "        # Step 3: Find the MSE for the current model and save\n",
    "        mse_fss3.append(mean_squared_error(data['target'], prediction3))\n",
    "        predictor_number.append(i+1)\n",
    "\n",
    "\n",
    "plt.scatter(predictor_number, mse_fss3, marker='o', color='blue')\n",
    "plt.title('target ~ 1 + X1 + X2 + X3')\n",
    "plt.xlabel('Predictor Number')\n",
    "plt.xticks(predictor_number)\n",
    "plt.ylabel('Mean-Squared Error')\n",
    "\n",
    "x3 = predictor_number[1]\n",
    "y3 = mse_fss3[1]\n",
    "plt.scatter(x3, y3, marker='o', color='red')\n",
    "plt.grid(True)"
   ]
  },
  {
   "cell_type": "markdown",
   "metadata": {},
   "source": [
    "#### Using these results, which single feature gives the best prediction (lowest MSE)?"
   ]
  },
  {
   "cell_type": "markdown",
   "metadata": {},
   "source": [
    "Predictor number 10+13+2, which is 'oldpeak + thal + sex' (thal = thalassemia), gives the best prediction (lowest mean-squared error)."
   ]
  },
  {
   "cell_type": "markdown",
   "metadata": {},
   "source": [
    "### Part 5\n",
    "#### Now write a loop to fit 10 models of the form, target ~ 1 + X1 + X2 + X3 + X4, where X1 is the best feature obtained from part (2), X2 is the best feature obtained from part (3), X3 is the best feature obtained from part (4), and X4 is one of the other features. Which combination of three features gives the best prediction?"
   ]
  },
  {
   "cell_type": "code",
   "execution_count": 49,
   "metadata": {},
   "outputs": [
    {
     "data": {
      "image/png": "[encoded data removed]",
      "text/plain": [
       "<Figure size 432x288 with 1 Axes>"
      ]
     },
     "metadata": {
      "needs_background": "light"
     },
     "output_type": "display_data"
    }
   ],
   "source": [
    "mse_fss4 = [] # Initialize an empty array for mse\n",
    "P = 13 # Number of predictors\n",
    "predictor_number = []\n",
    "\n",
    "for i in range(P):\n",
    "    if i == 9 or i == 12 or i == 1:\n",
    "        continue\n",
    "    else:\n",
    "        # Step 1: Fit the model to the data, using predictor\n",
    "        formula4 = 'target ~ 1 + oldpeak + thal + sex + '\n",
    "        formula4 += data.columns[i+1]\n",
    "        model4 = ols(formula4, data).fit()\n",
    "\n",
    "        # Step 2: Find the predicted values using the current model\n",
    "        prediction4 = model4.predict()\n",
    "\n",
    "        # Step 3: Find the MSE for the current model and save\n",
    "        mse_fss4.append(mean_squared_error(data['target'], prediction4))\n",
    "        predictor_number.append(i+1)\n",
    "    \n",
    "plt.scatter(predictor_number, mse_fss4, marker='o', color='blue')\n",
    "plt.title('target ~ 1 + X1 + X2 + X3 + X4')\n",
    "plt.xlabel('Predictor Number')\n",
    "plt.xticks(predictor_number)\n",
    "plt.ylabel('Mean-Squared Error')\n",
    "\n",
    "x4 = predictor_number[5]\n",
    "y4 = mse_fss4[5]\n",
    "plt.scatter(x4, y4, marker='o', color='red')\n",
    "plt.grid(True)"
   ]
  },
  {
   "cell_type": "markdown",
   "metadata": {},
   "source": [
    "#### Using these results, which single feature gives the best prediction (lowest MSE)?"
   ]
  },
  {
   "cell_type": "markdown",
   "metadata": {},
   "source": [
    "Predictor number 10+13+2+7, which is 'oldpeak + thal + sex + restecg' (thal = thalassemia), gives the best prediction (lowest mean-squared error)."
   ]
  },
  {
   "cell_type": "markdown",
   "metadata": {},
   "source": [
    "### Part 6\n",
    "#### Now write a loop to fit 9 models of the form, target ~ 1 + X1 + X2 + X3 + X4 + X5, where X1 is the best feature obtained from part (2), X2 is the best feature obtained from part (3), X3 is the best feature obtained from part (4), X4 is the best feature obtained from part (5), and X5 is one of the other features. Which combination of three features gives the best prediction?"
   ]
  },
  {
   "cell_type": "code",
   "execution_count": 53,
   "metadata": {},
   "outputs": [
    {
     "data": {
      "image/png": "[encoded data removed]",
      "text/plain": [
       "<Figure size 432x288 with 1 Axes>"
      ]
     },
     "metadata": {
      "needs_background": "light"
     },
     "output_type": "display_data"
    }
   ],
   "source": [
    "mse_fss5 = [] # Initialize an empty array for mse\n",
    "P = 13 # Number of predictors\n",
    "predictor_number = []\n",
    "\n",
    "for i in range(P):\n",
    "    if i == 9 or i == 12 or i == 1 or i == 6:\n",
    "        continue\n",
    "    else:\n",
    "        # Step 1: Fit the model to the data, using predictor\n",
    "        formula5 = 'target ~ 1 + oldpeak + thal + sex + restecg + '\n",
    "        formula5 += data.columns[i+1]\n",
    "        model5 = ols(formula5, data).fit()\n",
    "\n",
    "        # Step 2: Find the predicted values using the current model\n",
    "        prediction5 = model5.predict()\n",
    "\n",
    "        # Step 3: Find the MSE for the current model and save\n",
    "        mse_fss5.append(mean_squared_error(data['target'], prediction5))\n",
    "        predictor_number.append(i+1)\n",
    "    \n",
    "plt.scatter(predictor_number, mse_fss5, marker='o', color='blue')\n",
    "plt.title('target ~ 1 + X1 + X2 + X3 + X4 + X5')\n",
    "plt.xlabel('Predictor Number')\n",
    "plt.xticks(predictor_number)\n",
    "plt.ylabel('Mean-Squared Error')\n",
    "\n",
    "x5 = predictor_number[5]\n",
    "y5 = mse_fss5[5]\n",
    "plt.scatter(x5, y5, marker='o', color='red')\n",
    "plt.grid(True)"
   ]
  },
  {
   "cell_type": "markdown",
   "metadata": {},
   "source": [
    "#### Using these results, which single feature gives the best prediction (lowest MSE)?"
   ]
  },
  {
   "cell_type": "markdown",
   "metadata": {},
   "source": [
    "Predictor number 10+13+2+7+8, which is 'oldpeak + thal + sex + restecg + thalach' (thal = thalassemia), gives the best prediction (lowest mean-squared error)."
   ]
  },
  {
   "cell_type": "markdown",
   "metadata": {},
   "source": [
    "### Part 7\n",
    "### LASSO\n",
    "#### Find the LASSO Logistic Regression Model and report which predictors were set to 0"
   ]
  },
  {
   "cell_type": "code",
   "execution_count": 88,
   "metadata": {},
   "outputs": [
    {
     "data": {
      "text/plain": [
       "array([[ 0.00100977, -0.86564109,  0.64188914, -0.01335932, -0.00376753,\n",
       "         0.        ,  0.        ,  0.03131424, -0.25877563, -0.52718165,\n",
       "         0.04819083, -0.51875914, -0.48889636]])"
      ]
     },
     "execution_count": 88,
     "metadata": {},
     "output_type": "execute_result"
    }
   ],
   "source": [
    "x = data.drop(columns = ['target'])\n",
    "y = data['target']\n",
    "model_lasso = LogisticRegression(penalty = 'l1', solver = 'liblinear', C = 0.05).fit(x,y)\n",
    "\n",
    "\n",
    "model_lasso.coef_"
   ]
  },
  {
   "cell_type": "markdown",
   "metadata": {},
   "source": [
    "The 6th (fbs) and 7th (restecg) predictors were set to 0."
   ]
  },
  {
   "cell_type": "markdown",
   "metadata": {},
   "source": [
    "### Part 8\n",
    "#### Perform 5-fold cross-validation for the 2 models from Forward Subset Selection and Lasso. Report the mean test set MSE for each of these 4 models. Which model has the lowest test MSE?"
   ]
  },
  {
   "cell_type": "code",
   "execution_count": 106,
   "metadata": {},
   "outputs": [],
   "source": [
    "data_part7 = data.copy()\n",
    "\n",
    "kf = KFold(n_splits=10, shuffle=True)\n",
    "kf.get_n_splits(data_part7)\n",
    "\n",
    "mse_model_fss = []\n",
    "mse_model_lasso = []\n",
    "mse_multiple_linear_regression = []\n",
    "\n",
    "P = 13 # Number of predictors\n",
    "\n",
    "for train_index, test_index in kf.split(data_part7):\n",
    "    #print(\"TRAIN:\", train_index, \"TEST:\", test_index)\n",
    "    data_train, data_test = data_part7.iloc[list(train_index),:], data_part7.iloc[list(test_index),:]\n",
    "    \n",
    "    ### 1. Forward Subset Selection model: ###\n",
    "    # Step 1: Fit the model to the training data, using predictor\n",
    "    formula_fss = 'target ~ 1 + oldpeak + thal + sex + restecg + thalach'\n",
    "    model_fss = ols(formula_fss, data_train).fit()\n",
    "\n",
    "    # Step 2: Find the predicted values of the training set using the current model\n",
    "    prediction_fss = model_fss.predict(data_test)\n",
    "\n",
    "    # Step 3: Find the MSE for the current model and save\n",
    "    mse_model_fss.append(mean_squared_error(data_test['target'], prediction_fss))\n",
    "    \n",
    "    ### 2. LASSO model: ###\n",
    "    # Step 1: Fit the model to the training data, using predictor\n",
    "    x = data_train.drop(columns = ['target'])\n",
    "    y = data_train['target']\n",
    "    model_lasso = LogisticRegression(penalty = 'l1', solver = 'liblinear', C = 0.05).fit(x,y)\n",
    "\n",
    "    # Step 2: Find the predicted values of the training set using the current model\n",
    "    prediction_lasso = model_lasso.predict(data_test.drop(columns = ['target']))\n",
    "\n",
    "    # Step 3: Find the MSE for the current model and save\n",
    "    mse_model_lasso.append(mean_squared_error(data_test['target'], prediction_lasso))\n",
    "    \n",
    "    ### 3. Multiple Linear Regression model: ###\n",
    "    # Step 1: Fit the model to the training data, using predictor\n",
    "    multiple_linear_formula = 'target ~ 1'\n",
    "    for column_name in data.columns[0:13]:\n",
    "        multiple_linear_formula += ' + '\n",
    "        multiple_linear_formula += column_name\n",
    "\n",
    "    multiple_linear_formula_model = ols(multiple_linear_formula, data_train).fit()\n",
    "\n",
    "    # Step 2: Find the predicted values of the training set using the current model\n",
    "    prediction_multiple_linear = multiple_linear_formula_model.predict(data_test)\n",
    "\n",
    "    # Step 3: Find the MSE for the current model and save\n",
    "    mse_multiple_linear_regression.append(mean_squared_error(data_test['target'], prediction_multiple_linear))"
   ]
  },
  {
   "cell_type": "markdown",
   "metadata": {},
   "source": [
    "### Part 9\n",
    "#### Report the Average Mean Squared Error of each model. Plot the Average Mean Squared Error's of each model."
   ]
  },
  {
   "cell_type": "code",
   "execution_count": 110,
   "metadata": {},
   "outputs": [
    {
     "data": {
      "image/png": "[encoded data removed]",
      "text/plain": [
       "<Figure size 432x288 with 1 Axes>"
      ]
     },
     "metadata": {
      "needs_background": "light"
     },
     "output_type": "display_data"
    }
   ],
   "source": [
    "plt.scatter(range(1,10+1), mse_model_fss, marker='o', color='blue', label='Forward Subset Selection')\n",
    "plt.scatter(range(1,10+1), mse_model_lasso, marker='o', color='red', label='LASSO')\n",
    "plt.title('MSE of FSS and LASSO during K-Fold CV')\n",
    "plt.xlabel('Iteration # of K-Fold Cross Distribution')\n",
    "plt.xticks(range(1,10+1))\n",
    "plt.ylabel('Mean-Squared Error')\n",
    "plt.legend()\n",
    "plt.grid()"
   ]
  },
  {
   "cell_type": "code",
   "execution_count": 111,
   "metadata": {},
   "outputs": [
    {
     "name": "stdout",
     "output_type": "stream",
     "text": [
      "Average MSE Forward Subset Selection =  0.15622165870740481\n",
      "Average MSE LASSO =  0.1668284789644013\n"
     ]
    }
   ],
   "source": [
    "print(\"Average MSE Forward Subset Selection = \", sum(mse_model_fss)/10)\n",
    "print(\"Average MSE LASSO = \", sum(mse_model_lasso)/10)"
   ]
  },
  {
   "cell_type": "code",
   "execution_count": 114,
   "metadata": {},
   "outputs": [
    {
     "data": {
      "image/png": "[encoded data removed]",
      "text/plain": [
       "<Figure size 432x288 with 1 Axes>"
      ]
     },
     "metadata": {
      "needs_background": "light"
     },
     "output_type": "display_data"
    }
   ],
   "source": [
    "plt.scatter(range(1,10+1), mse_model_fss, marker='o', color='blue', label='Forward Subset Selection')\n",
    "plt.scatter(range(1,10+1), mse_multiple_linear_regression, marker='o', color='green', label='Multiple Linear Regreesion')\n",
    "plt.title('MSE of FSS versus Multiple Linear Regression')\n",
    "plt.xlabel('Iteration # of K-Fold Cross Distribution')\n",
    "plt.xticks(range(1,10+1))\n",
    "plt.ylabel('Mean-Squared Error')\n",
    "plt.legend()\n",
    "plt.grid()"
   ]
  },
  {
   "cell_type": "code",
   "execution_count": 113,
   "metadata": {},
   "outputs": [
    {
     "name": "stdout",
     "output_type": "stream",
     "text": [
      "Average MSE Forward Subset Selection =  0.15622165870740481\n",
      "Average MSE Multiple Linear Regression =  0.1254837896463044\n"
     ]
    }
   ],
   "source": [
    "print(\"Average MSE Forward Subset Selection = \", sum(mse_model_fss)/10)\n",
    "print(\"Average MSE Multiple Linear Regression = \", sum(mse_multiple_linear_regression)/10)"
   ]
  },
  {
   "cell_type": "code",
   "execution_count": 119,
   "metadata": {},
   "outputs": [
    {
     "data": {
      "text/html": [
       "<table class=\"simpletable\">\n",
       "<caption>OLS Regression Results</caption>\n",
       "<tr>\n",
       "  <th>Dep. Variable:</th>         <td>target</td>      <th>  R-squared:         </th> <td>   0.369</td>\n",
       "</tr>\n",
       "<tr>\n",
       "  <th>Model:</th>                   <td>OLS</td>       <th>  Adj. R-squared:    </th> <td>   0.366</td>\n",
       "</tr>\n",
       "<tr>\n",
       "  <th>Method:</th>             <td>Least Squares</td>  <th>  F-statistic:       </th> <td>   107.3</td>\n",
       "</tr>\n",
       "<tr>\n",
       "  <th>Date:</th>             <td>Fri, 04 Jun 2021</td> <th>  Prob (F-statistic):</th> <td>3.29e-89</td>\n",
       "</tr>\n",
       "<tr>\n",
       "  <th>Time:</th>                 <td>01:57:53</td>     <th>  Log-Likelihood:    </th> <td> -457.27</td>\n",
       "</tr>\n",
       "<tr>\n",
       "  <th>No. Observations:</th>      <td>   923</td>      <th>  AIC:               </th> <td>   926.5</td>\n",
       "</tr>\n",
       "<tr>\n",
       "  <th>Df Residuals:</th>          <td>   917</td>      <th>  BIC:               </th> <td>   955.5</td>\n",
       "</tr>\n",
       "<tr>\n",
       "  <th>Df Model:</th>              <td>     5</td>      <th>                     </th>     <td> </td>   \n",
       "</tr>\n",
       "<tr>\n",
       "  <th>Covariance Type:</th>      <td>nonrobust</td>    <th>                     </th>     <td> </td>   \n",
       "</tr>\n",
       "</table>\n",
       "<table class=\"simpletable\">\n",
       "<tr>\n",
       "      <td></td>         <th>coef</th>     <th>std err</th>      <th>t</th>      <th>P>|t|</th>  <th>[0.025</th>    <th>0.975]</th>  \n",
       "</tr>\n",
       "<tr>\n",
       "  <th>Intercept</th> <td>    0.1861</td> <td>    0.110</td> <td>    1.693</td> <td> 0.091</td> <td>   -0.030</td> <td>    0.402</td>\n",
       "</tr>\n",
       "<tr>\n",
       "  <th>oldpeak</th>   <td>   -0.1186</td> <td>    0.012</td> <td>   -9.864</td> <td> 0.000</td> <td>   -0.142</td> <td>   -0.095</td>\n",
       "</tr>\n",
       "<tr>\n",
       "  <th>thal</th>      <td>   -0.1668</td> <td>    0.022</td> <td>   -7.702</td> <td> 0.000</td> <td>   -0.209</td> <td>   -0.124</td>\n",
       "</tr>\n",
       "<tr>\n",
       "  <th>sex</th>       <td>   -0.2083</td> <td>    0.029</td> <td>   -7.174</td> <td> 0.000</td> <td>   -0.265</td> <td>   -0.151</td>\n",
       "</tr>\n",
       "<tr>\n",
       "  <th>restecg</th>   <td>    0.0775</td> <td>    0.025</td> <td>    3.121</td> <td> 0.002</td> <td>    0.029</td> <td>    0.126</td>\n",
       "</tr>\n",
       "<tr>\n",
       "  <th>thalach</th>   <td>    0.0063</td> <td>    0.001</td> <td>   10.370</td> <td> 0.000</td> <td>    0.005</td> <td>    0.007</td>\n",
       "</tr>\n",
       "</table>\n",
       "<table class=\"simpletable\">\n",
       "<tr>\n",
       "  <th>Omnibus:</th>       <td>40.135</td> <th>  Durbin-Watson:     </th> <td>   1.926</td>\n",
       "</tr>\n",
       "<tr>\n",
       "  <th>Prob(Omnibus):</th> <td> 0.000</td> <th>  Jarque-Bera (JB):  </th> <td>  22.614</td>\n",
       "</tr>\n",
       "<tr>\n",
       "  <th>Skew:</th>          <td>-0.220</td> <th>  Prob(JB):          </th> <td>1.23e-05</td>\n",
       "</tr>\n",
       "<tr>\n",
       "  <th>Kurtosis:</th>      <td> 2.373</td> <th>  Cond. No.          </th> <td>1.27e+03</td>\n",
       "</tr>\n",
       "</table><br/><br/>Notes:<br/>[1] Standard Errors assume that the covariance matrix of the errors is correctly specified.<br/>[2] The condition number is large, 1.27e+03. This might indicate that there are<br/>strong multicollinearity or other numerical problems."
      ],
      "text/plain": [
       "<class 'statsmodels.iolib.summary.Summary'>\n",
       "\"\"\"\n",
       "                            OLS Regression Results                            \n",
       "==============================================================================\n",
       "Dep. Variable:                 target   R-squared:                       0.369\n",
       "Model:                            OLS   Adj. R-squared:                  0.366\n",
       "Method:                 Least Squares   F-statistic:                     107.3\n",
       "Date:                Fri, 04 Jun 2021   Prob (F-statistic):           3.29e-89\n",
       "Time:                        01:57:53   Log-Likelihood:                -457.27\n",
       "No. Observations:                 923   AIC:                             926.5\n",
       "Df Residuals:                     917   BIC:                             955.5\n",
       "Df Model:                           5                                         \n",
       "Covariance Type:            nonrobust                                         \n",
       "==============================================================================\n",
       "                 coef    std err          t      P>|t|      [0.025      0.975]\n",
       "------------------------------------------------------------------------------\n",
       "Intercept      0.1861      0.110      1.693      0.091      -0.030       0.402\n",
       "oldpeak       -0.1186      0.012     -9.864      0.000      -0.142      -0.095\n",
       "thal          -0.1668      0.022     -7.702      0.000      -0.209      -0.124\n",
       "sex           -0.2083      0.029     -7.174      0.000      -0.265      -0.151\n",
       "restecg        0.0775      0.025      3.121      0.002       0.029       0.126\n",
       "thalach        0.0063      0.001     10.370      0.000       0.005       0.007\n",
       "==============================================================================\n",
       "Omnibus:                       40.135   Durbin-Watson:                   1.926\n",
       "Prob(Omnibus):                  0.000   Jarque-Bera (JB):               22.614\n",
       "Skew:                          -0.220   Prob(JB):                     1.23e-05\n",
       "Kurtosis:                       2.373   Cond. No.                     1.27e+03\n",
       "==============================================================================\n",
       "\n",
       "Notes:\n",
       "[1] Standard Errors assume that the covariance matrix of the errors is correctly specified.\n",
       "[2] The condition number is large, 1.27e+03. This might indicate that there are\n",
       "strong multicollinearity or other numerical problems.\n",
       "\"\"\""
      ]
     },
     "execution_count": 119,
     "metadata": {},
     "output_type": "execute_result"
    }
   ],
   "source": [
    "model_fss.summary()"
   ]
  },
  {
   "cell_type": "code",
   "execution_count": 123,
   "metadata": {},
   "outputs": [
    {
     "data": {
      "text/plain": [
       "Intercept    9.084342e-02\n",
       "oldpeak      6.985826e-22\n",
       "thal         3.468806e-14\n",
       "sex          1.505986e-12\n",
       "restecg      1.859839e-03\n",
       "thalach      6.691161e-24\n",
       "dtype: float64"
      ]
     },
     "execution_count": 123,
     "metadata": {},
     "output_type": "execute_result"
    }
   ],
   "source": [
    "model_fss.pvalues"
   ]
  },
  {
   "cell_type": "code",
   "execution_count": null,
   "metadata": {},
   "outputs": [],
   "source": []
  }
 ],
 "metadata": {
  "kernelspec": {
   "display_name": "Python 3",
   "language": "python",
   "name": "python3"
  },
  "language_info": {
   "codemirror_mode": {
    "name": "ipython",
    "version": 3
   },
   "file_extension": ".py",
   "mimetype": "text/x-python",
   "name": "python",
   "nbconvert_exporter": "python",
   "pygments_lexer": "ipython3",
   "version": "3.8.5"
  }
 },
 "nbformat": 4,
 "nbformat_minor": 4
}
